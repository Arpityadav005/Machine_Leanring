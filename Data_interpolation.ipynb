# DATA INTERPOLATION
# Interpolation is the process of estimating unknown values using known data points.

# Types:
# 1. Linear Interpolation
# 2. Cubic Interpolation
# 3. Polynomial Interpolation

import numpy as np
import matplotlib.pyplot as plt
from scipy.interpolate import interp1d

# ---------- LINEAR INTERPOLATION ----------
x_linear = np.array([1, 2, 3, 4, 5])
y_linear = np.array([1, 3, 5, 7, 9])

x_new_linear = np.linspace(1, 5, 10)  # New x values
y_interp_linear = np.interp(x_new_linear, x_linear, y_linear)

# Plot Linear Interpolation
plt.figure(figsize=(12, 4))
plt.subplot(1, 3, 1)
plt.scatter(x_linear, y_linear, color='blue', label='Original')
plt.plot(x_new_linear, y_interp_linear, 'r--', label='Linear Interpolation')
plt.title('Linear Interpolation')
plt.legend()

# ---------- CUBIC INTERPOLATION ----------
x_cubic = np.array([1, 2, 3, 4, 5])
y_cubic = np.array([1, 8, 27, 64, 125])  # y = x^3

f_cubic = interp1d(x_cubic, y_cubic, kind='cubic')
x_new_cubic = np.linspace(1, 5, 50)
y_interp_cubic = f_cubic(x_new_cubic)

# Plot Cubic Interpolation
plt.subplot(1, 3, 2)
plt.scatter(x_cubic, y_cubic, color='green', label='Original')
plt.plot(x_new_cubic, y_interp_cubic, 'r--', label='Cubic Interpolation')
plt.title('Cubic Interpolation')
plt.legend()

# ---------- POLYNOMIAL INTERPOLATION ----------
x_poly = np.array([1, 2, 3, 4, 5])
y_poly = np.array([1, 4, 9, 1, 25])

# Fit a 2nd-degree polynomial
coeffs = np.polyfit(x_poly, y_poly, 2)
x_new_poly = np.linspace(min(x_poly), max(x_poly), 50)
y_interp_poly = np.polyval(coeffs, x_new_poly)

# Plot Polynomial Interpolation
plt.subplot(1, 3, 3)
plt.scatter(x_poly, y_poly, color='purple', label='Original')
plt.plot(x_new_poly, y_interp_poly, 'r--', label='Polynomial Fit (deg=2)')
plt.title('Polynomial Interpolation')
plt.legend()

# Show all plots
plt.tight_layout()
plt.show()
