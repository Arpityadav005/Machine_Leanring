# 📦 Import libraries
import pandas as pd
import numpy as np
import seaborn as sns
import matplotlib.pyplot as plt
from sklearn.preprocessing import StandardScaler, MinMaxScaler, normalize
import warnings
warnings.filterwarnings("ignore")

# 📘 Load Sample Data
df = sns.load_dataset("tips")  # Dataset includes: total_bill, tip, sex, smoker, etc.

# -----------------------------------
# 📊 Visualizing Original Distribution
# -----------------------------------
plt.figure(figsize=(8, 4))
sns.histplot(df["total_bill"], kde=True)
plt.title("Original Distribution of Total Bill")
plt.xlabel("Total Bill")
plt.show()

# -----------------------------------
# ⚖️ 1. Standardization (Z-score Scaling)
# -----------------------------------
mean = df['total_bill'].mean()
std = df['total_bill'].std()

z_scores = [(i - mean) / std for i in df['total_bill']]

# Visualize Standardized Data
plt.figure(figsize=(8, 4))
sns.histplot(z_scores, kde=True)
plt.title("Standardized Distribution (Z-score)")
plt.xlabel("Z-score")
plt.show()

# ✅ Using Sklearn's StandardScaler
scaler = StandardScaler()
standard_scaled = scaler.fit_transform(df[['total_bill', 'tip']])
df_standard = pd.DataFrame(standard_scaled, columns=['total_bill_scaled', 'tip_scaled'])

# -----------------------------------
# 🔄 2. Min-Max Normalization
# -----------------------------------
min_max = MinMaxScaler()
normalized_scaled = min_max.fit_transform(df[['total_bill', 'tip']])
df_minmax = pd.DataFrame(normalized_scaled, columns=['total_bill_norm', 'tip_norm'])

# -----------------------------------
# 🔁 3. Unit Vector Scaling (L2 Norm)
# -----------------------------------
unit_vector_scaled = normalize(df[['total_bill', 'tip']])
df_unit_vector = pd.DataFrame(unit_vector_scaled, columns=['total_bill_uv', 'tip_uv'])

# -----------------------------------
# 🧾 Final Comparison
# -----------------------------------
print("\n📊 Feature Scaling Preview:")
final_df = pd.concat([df[['total_bill', 'tip']], df_standard, df_minmax, df_unit_vector], axis=1)
display(final_df.head())
