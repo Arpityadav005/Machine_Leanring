# 📚 DATA ENCODING TECHNIQUES IN MACHINE LEARNING
# Goal: Convert categorical data into numerical format for ML algorithms

import pandas as pd
import numpy as np
from sklearn.preprocessing import OneHotEncoder, LabelEncoder, OrdinalEncoder
import seaborn as sns

# --------------------------------------------
# 🔹 1. NOMINAL ENCODING (One-Hot Encoding)
# --------------------------------------------
df_nominal = pd.DataFrame({"status": ["single", "married", "separated", "single", "married"]})
print("Original Nominal Data:")
print(df_nominal)

# Using sklearn's OneHotEncoder
ohe = OneHotEncoder()
encoded_array = ohe.fit_transform(df_nominal[["status"]]).toarray()
encoded_df = pd.DataFrame(encoded_array, columns=ohe.get_feature_names_out())

# Combine with original
df_encoded = pd.concat([df_nominal, encoded_df], axis=1)
print("\nOne-Hot Encoded Data:")
print(df_encoded)

# Transform a new category value
print("\nTransforming ['single']:", ohe.transform([["single"]]).toarray())

# --------------------------------------------
# 🔹 2. LABEL ENCODING
# --------------------------------------------
label_encoder = LabelEncoder()
df_nominal['status_encoded'] = label_encoder.fit_transform(df_nominal['status'])
print("\nLabel Encoded Data:")
print(df_nominal)

# Transforming a new value
print("Transforming ['separated']:", label_encoder.transform([["separated"]]))

# --------------------------------------------
# 🔹 3. ORDINAL ENCODING (Manual Order)
# --------------------------------------------
# Suppose education level has an order: HS < GR < PG < PHD
df_ordinal = pd.DataFrame({"qualification": ['HS', 'GR', 'PG', 'PHD', 'HS', 'PHD']})
order = [["HS", "GR", "PG", "PHD"]]  # Define the order

ordinal_encoder = OrdinalEncoder(categories=order)
df_ordinal['encoded'] = ordinal_encoder.fit_transform(df_ordinal[['qualification']])
print("\nOrdinal Encoded Data:")
print(df_ordinal)

# --------------------------------------------
# 🔹 4. TARGET GUIDED ORDINAL ENCODING
# --------------------------------------------
# Encode categories based on their relationship with target (e.g., mean of target variable)
df_target = pd.DataFrame({
    'time': ['lunch', 'breakfast', 'dinner', 'lunch', 'breakfast', 'dinner', 'lunch', 'breakfast', 'dinner'],
    'total_bill': [120, 130, 90, 125, 150, 190, 160, 180, 189]
})

# Compute mean of target grouped by category
mean_map = df_target.groupby('time')['total_bill'].mean().to_dict()
df_target['time_encoded'] = df_target['time'].map(mean_map)

print("\nTarget Guided Encoding (Mean of total_bill):")
print(df_target)
