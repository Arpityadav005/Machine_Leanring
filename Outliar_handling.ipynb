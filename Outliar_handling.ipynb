# 📊 OUTLIERS HANDLING IN PYTHON

import pandas as pd
import numpy as np
import seaborn as sns
import matplotlib.pyplot as plt
import warnings
warnings.filterwarnings("ignore")  # Ignore warnings for cleaner output

# Sample salary data with some outliers
salary = [11, 40, 45, 68, 65, 68, 78, 90, 57, 74, 91, 92, 88, 68, 57, 48, 99, 101, 68, 77, 110, 140]
df = pd.DataFrame(salary, columns=['salary'])

# Five-point summary (Min, Q1, Median, Q3, Max)
print("Five Point Summary:", np.quantile(salary, [0, 0.25, 0.5, 0.75, 1]))

# 📌 1. Visualization of Original Data
plt.figure(figsize=(12, 5))

plt.subplot(1, 2, 1)
sns.histplot(df['salary'], kde=True)
plt.title("Original Distribution (Histogram)")

plt.subplot(1, 2, 2)
sns.boxplot(data=df, x='salary')
plt.title("Original Boxplot")
plt.show()

# 📌 2. Detecting Outliers Using IQR Method
Q1 = df['salary'].quantile(0.25)
Q3 = df['salary'].quantile(0.75)
IQR = Q3 - Q1
lower_fence = Q1 - 1.5 * IQR
upper_fence = Q3 + 1.5 * IQR

print(f"IQR: {IQR}, Lower Fence: {lower_fence}, Upper Fence: {upper_fence}")

# Filtered dataset (Outliers Removed)
df_filtered = df[(df.salary >= lower_fence) & (df.salary <= upper_fence)]

# 📌 3. Visualization After Removing Outliers
plt.figure(figsize=(12, 5))

plt.subplot(1, 2, 1)
sns.histplot(df_filtered['salary'], kde=True)
plt.title("Distribution After Removing Outliers")

plt.subplot(1, 2, 2)
sns.boxplot(data=df_filtered, x='salary')
plt.title("Boxplot After Removing Outliers")
plt.show()

# 📌 4. Imputation Using Mean (for Outliers Only)
mean_value = df['salary'].mean()
df['Salary_imputed_mean'] = np.where(
    (df.salary < lower_fence) | (df.salary > upper_fence),
    mean_value,
    df['salary']
)

# Visualization After Mean Imputation
plt.figure(figsize=(12, 5))
plt.subplot(1, 2, 1)
sns.histplot(df['Salary_imputed_mean'], kde=True)
plt.title("Mean Imputation - Distribution")

plt.subplot(1, 2, 2)
sns.boxplot(data=df, x='Salary_imputed_mean')
plt.title("Mean Imputation - Boxplot")
plt.show()

# 📌 5. Capping Outliers (Replacing with Percentile Thresholds)
lower_cap = df['salary'].quantile(0.05)
upper_cap = df['salary'].quantile(0.95)

df['Salary_capped'] = np.where(df['salary'] < lower_cap, lower_cap,
                         np.where(df['salary'] > upper_cap, upper_cap, df['salary']))

# Visualization After Capping
plt.figure(figsize=(12, 5))
plt.subplot(1, 2, 1)
sns.histplot(df['Salary_capped'], kde=True)
plt.title("Capped Distribution (5th & 95th Percentiles)")

plt.subplot(1, 2, 2)
sns.boxplot(data=df, x='Salary_capped')
plt.title("Capped Boxplot")
plt.show()
